{
  "nbformat": 4,
  "nbformat_minor": 0,
  "metadata": {
    "colab": {
      "provenance": [],
      "authorship_tag": "ABX9TyN7rEdE8hLWwXU/H+YnJe1d",
      "include_colab_link": true
    },
    "kernelspec": {
      "name": "python3",
      "display_name": "Python 3"
    },
    "language_info": {
      "name": "python"
    }
  },
  "cells": [
    {
      "cell_type": "markdown",
      "metadata": {
        "id": "view-in-github",
        "colab_type": "text"
      },
      "source": [
        "<a href=\"https://colab.research.google.com/github/paddyz02/SR-Rnd/blob/main/Bayesian_Sim.ipynb\" target=\"_parent\"><img src=\"https://colab.research.google.com/assets/colab-badge.svg\" alt=\"Open In Colab\"/></a>"
      ]
    },
    {
      "cell_type": "code",
      "execution_count": 30,
      "metadata": {
        "id": "3Ys64817FBUc"
      },
      "outputs": [],
      "source": [
        "import numpy as np\n",
        "import pandas as pd\n",
        "import matplotlib.pyplot as plt\n",
        "import math"
      ]
    },
    {
      "cell_type": "markdown",
      "source": [
        "Defining our Thinning Algorithm: Here, we take Ogata's (1981) thinning algorithm with 3 inputs, the horizon T, the base rate, and a  kernel. "
      ],
      "metadata": {
        "id": "I9YUhQYlKyYZ"
      }
    },
    {
      "cell_type": "code",
      "source": [
        "def Thinning_Sim(T, Base_Rate,Kernel=Blank_Kernel()):\n",
        "    sample = np.array([]) # create empty array \n",
        "    t = np.zeros(1) # starting time\n",
        "    while t[0]<T: # loop until you pass the observation horizon\n",
        "        h0 = max(Base_Rate)+Kernel.bound(t,T,sample) # get upper bound\n",
        "        u  = np.random.uniform(0,1,size=1) \n",
        "        t1  = -np.log(u)/h0 # generate random timestep\n",
        "        t = min(T,t+t1) # make sure the timestep doesn't go too far (out of the observation horizon) \n",
        "        h1 = Base_Rate[int(t)-1]+Kernel.pulse(t,sample) # get intensity at new timestep\n",
        "        s = np.random.uniform(0,1,size=1)[0]\n",
        "        if s<=h1/h0: # randomly accept whether an event happened at this timestep\n",
        "            sample = np.append(sample, t)\n",
        "    return sample"
      ],
      "metadata": {
        "id": "Hn2tsVBDKsbs"
      },
      "execution_count": 49,
      "outputs": []
    },
    {
      "cell_type": "markdown",
      "source": [
        "For simplicity, we use an exponential kernel here."
      ],
      "metadata": {
        "id": "Pm5mks65x9VC"
      }
    },
    {
      "cell_type": "code",
      "source": [
        "class Blank_Kernel:\n",
        "    def __init__(self):\n",
        "        return\n",
        "    def bound(self,t,T,H):\n",
        "        return np.zeros(1)\n",
        "    def pulse(self,t,H):\n",
        "        return np.zeros(1)\n",
        "    \n",
        "# set time horizon\n",
        "horizon = np.array([180])\n",
        "\n",
        "# build base rate function (really WHATEVER you want, it virtually has no restrictions)\n",
        "timesteps = np.linspace(0, horizon[0], horizon[0])\n",
        "base_rate = np.exp(np.sin(timesteps * (2 * math.pi)))/10\n",
        "\n",
        "# get a good graph for that\n",
        "fig, ax = plt.subplots(nrows=1,figsize=(10, 3))\n",
        "ax.set_xlim(xmin=0,xmax=horizon)\n",
        "ax.set_ylim(ymin=0,ymax=1.2*max(base_rate))\n",
        "ax.plot(timesteps,base_rate,color=\"black\",linestyle='--')\n",
        "ax.set_xlabel(\"t\")\n",
        "ax.set_ylabel(\"Intensity\")\n",
        "ax.set_title(\"Base Rate Intensity Function\")\n",
        "plt.show()\n",
        "\n",
        "# simulate some points\n",
        "simulated_sample = Thinning_Sim(horizon, base_rate)\n",
        "print(\"(sub)Sample data as a list of event times:\")\n",
        "print(simulated_sample[:10])\n",
        "print()\n",
        "\n",
        "# plot those points againts the intensity function\n",
        "fig, ax = plt.subplots(nrows=1,figsize=(10, 3))\n",
        "ax.set_xlim(xmin=0,xmax=horizon)\n",
        "ax.set_ylim(ymin=-0.15,ymax=1.2*(max(base_rate)))\n",
        "ax.scatter(simulated_sample,np.zeros(len(simulated_sample))-0.1, color = \"black\", alpha=0.3)\n",
        "ax.plot(timesteps,base_rate,color=\"black\",linestyle='--')\n",
        "ax.set_xlabel(\"t\")\n",
        "ax.set_yticks([-0.1,base_rate[0]])\n",
        "ax.set_yticklabels([\"Events\",\"Intensity\"])\n",
        "ax.set_title(\"Point Simulation\")\n",
        "plt.show()"
      ],
      "metadata": {
        "colab": {
          "base_uri": "https://localhost:8080/",
          "height": 536
        },
        "id": "P1d_-lJoXGUG",
        "outputId": "2d9d693e-aab7-4278-b9b4-f1b4275f9f63"
      },
      "execution_count": 50,
      "outputs": [
        {
          "output_type": "display_data",
          "data": {
            "text/plain": [
              "<Figure size 720x216 with 1 Axes>"
            ],
            "image/png": "[encoded data removed]"
          },
          "metadata": {
            "needs_background": "light"
          }
        },
        {
          "output_type": "stream",
          "name": "stdout",
          "text": [
            "(sub)Sample data as a list of event times:\n",
            "[ 1.3809221  22.86234383 23.53327235 26.10880146 31.77868225 34.98866673\n",
            " 39.71160843 45.40139476 46.80436501 46.85336157]\n",
            "\n"
          ]
        },
        {
          "output_type": "display_data",
          "data": {
            "text/plain": [
              "<Figure size 720x216 with 1 Axes>"
            ],
            "image/png": "[encoded data removed]"
          },
          "metadata": {
            "needs_background": "light"
          }
        }
      ]
    },
    {
      "cell_type": "markdown",
      "source": [
        "Sampling from the multivariate normal prior:"
      ],
      "metadata": {
        "id": "TaKd6GgGyfC9"
      }
    },
    {
      "cell_type": "code",
      "source": [
        "class Exp_Kernel:\n",
        "    def __init__(self,params):\n",
        "        self.α = params[0]\n",
        "        self.β = params[1]\n",
        "        \n",
        "    def bound(self,t,T,H):\n",
        "        grid = np.linspace(t[0],T[0],int(T[0]-t[0]+1)).reshape(-1,1) \n",
        "        deltas = grid - H.copy().reshape(1,-1).repeat(grid.shape[0],axis=0)\n",
        "        raw = self.α*np.exp(-self.β*deltas)\n",
        "        aggregate = np.sum((deltas>0)*raw,1)\n",
        "        return max(aggregate)\n",
        "    \n",
        "    def pulse(self,t,H):\n",
        "        t = t.copy().reshape(-1,1)\n",
        "        deltas = t - H.copy().reshape(1,-1).repeat(t.shape[0],axis=0) \n",
        "        raw = self.α*np.exp(-self.β*deltas)\n",
        "        aggregate = np.sum((deltas>0)*raw,1)\n",
        "        return aggregate\n",
        "    \n",
        "params = [0.1, 0.5]\n",
        "kernel = Exp_Kernel(params)\n",
        "    \n",
        "# simulate some points\n",
        "simulated_sample = Thinning_Sim(horizon, base_rate, kernel)\n",
        "\n",
        "# estimate intensity at each step:\n",
        "total_intensity = base_rate + kernel.pulse(timesteps,simulated_sample)\n",
        "\n",
        "# plot those points againts the intensity function\n",
        "fig, ax = plt.subplots(nrows=1,figsize=(10, 3))\n",
        "ax.set_xlim(xmin=0,xmax=horizon)\n",
        "ax.set_ylim(ymin=-0.15,ymax=1.2*(max(total_intensity)))\n",
        "ax.scatter(simulated_sample,np.zeros(len(simulated_sample))-0.1, color = \"black\", alpha=0.3)\n",
        "ax.plot(timesteps,total_intensity,color=\"black\",linestyle='--')\n",
        "ax.set_xlabel(\"t\")\n",
        "ax.set_yticks([-0.1,base_rate[0]])\n",
        "ax.set_yticklabels([\"Events\",\"Intensity\"])\n",
        "ax.set_title(\"Point Simulation\")\n",
        "plt.show()\n"
      ],
      "metadata": {
        "colab": {
          "base_uri": "https://localhost:8080/",
          "height": 241
        },
        "id": "1ImHFfNAY1kc",
        "outputId": "131d477b-df51-4dc5-f7dd-ebaf0be5b936"
      },
      "execution_count": 51,
      "outputs": [
        {
          "output_type": "display_data",
          "data": {
            "text/plain": [
              "<Figure size 720x216 with 1 Axes>"
            ],
            "image/png": "[encoded data removed]"
          },
          "metadata": {
            "needs_background": "light"
          }
        }
      ]
    },
    {
      "cell_type": "code",
      "source": [
        "#base_rate1 = 0.3\n",
        "base_rate_constant = 0.3* np.ones(len(timesteps))\n",
        "base_rate_logn = np.exp(np.random.normal(np.log(0.3), 0.01, 500))\n",
        "base_rate = np.ones(len(timesteps)).reshape(1, -1) * base_rate_logn.reshape(-1,1) # <- this is for each person \n",
        "#for k in range(1,len(base_rate1)):\n",
        "#    base_rate1[k] += 0.2*base_rate1[k-1] \n",
        "\n",
        "fig, ax = plt.subplots(nrows=1,figsize=(10, 3))\n",
        "ax.set_xlim(xmin=0,xmax=horizon)\n",
        "ax.set_ylim(ymin=0,ymax=1.2*max(base_rate.mean(0)))\n",
        "ax.plot(timesteps,base_rate.mean(0),color=\"black\",linestyle='--')\n",
        "ax.set_xlabel(\"t\")\n",
        "ax.set_ylabel(\"Intensity\")\n",
        "ax.set_title(\"Common Exogenous Base Rate For All Customers\")\n",
        "plt.show()\n",
        "\n",
        "hyperparams = [0.01,0.1,0.5,0.1]\n",
        "horizon = np.array([180])\n",
        "#Drawing the kernel \n",
        "alpha = np.random.beta(0.5, 0.5, 500)\n",
        "beta = np.exp(np.random.normal(0, 0.01, 500))\n",
        "alpha[alpha >= beta] = 0.8*beta[alpha >= beta]\n",
        "\n",
        "dataset = pd.DataFrame(columns = [\"ID\",\"Params\",\"Obs1\"])\n",
        "ID = []\n",
        "d = dict()\n",
        "d[\"global\"] = hyperparams\n",
        "\n",
        "#Simulating weibull (c = 1) death time with lambda = 120 \n",
        "death = np.random.exponential(120, size = 500)\n",
        "death = np.around(death)\n",
        "for i in range(len(death)): \n",
        "  if death[i] > 180: \n",
        "    death[i] = 180\n",
        "\n",
        "for i in range(500):\n",
        "    kernel = Exp_Kernel([alpha[i], beta[i]])\n",
        "    simulated_sample1 = Thinning_Sim(horizon, base_rate[i,:], kernel)\n",
        "    d[i] = {}\n",
        "    d[i][\"params\"] = [alpha[i], beta[i], base_rate[i]]\n",
        "    d[i]['data'] = simulated_sample1\n"
      ],
      "metadata": {
        "colab": {
          "base_uri": "https://localhost:8080/",
          "height": 241
        },
        "id": "wCu21kK2Zd9P",
        "outputId": "29e9d1f9-17ef-476d-906d-94359035855c"
      },
      "execution_count": 52,
      "outputs": [
        {
          "output_type": "display_data",
          "data": {
            "text/plain": [
              "<Figure size 720x216 with 1 Axes>"
            ],
            "image/png": "[encoded data removed]"
          },
          "metadata": {
            "needs_background": "light"
          }
        }
      ]
    },
    {
      "cell_type": "code",
      "source": [
        "base_rate.shape"
      ],
      "metadata": {
        "colab": {
          "base_uri": "https://localhost:8080/"
        },
        "id": "b23jRnFU5lF9",
        "outputId": "08263c95-9f80-4b27-9849-dfbbb7c97c6d"
      },
      "execution_count": 43,
      "outputs": [
        {
          "output_type": "execute_result",
          "data": {
            "text/plain": [
              "(500, 180)"
            ]
          },
          "metadata": {},
          "execution_count": 43
        }
      ]
    },
    {
      "cell_type": "code",
      "source": [
        "dataset"
      ],
      "metadata": {
        "colab": {
          "base_uri": "https://localhost:8080/",
          "height": 641
        },
        "id": "UP2Rqx0Z53rL",
        "outputId": "cdee9541-5912-43aa-8efa-425c90272dfe"
      },
      "execution_count": 16,
      "outputs": [
        {
          "output_type": "execute_result",
          "data": {
            "text/plain": [
              "     ID                                       Params  \\\n",
              "0     0     [0.010095112485540094, 0.57888657501034]   \n",
              "0     1    [0.00941804987117977, 0.5180622543396974]   \n",
              "0     2    [0.010597942628168162, 0.537568292260389]   \n",
              "0     3    [0.008643824783599471, 0.526140730428148]   \n",
              "0     4  [0.009897251464570775, 0.48349321203023465]   \n",
              "..  ...                                          ...   \n",
              "0   495   [0.011841959963364778, 0.5605469783341114]   \n",
              "0   496   [0.011663401110027727, 0.5101416467352566]   \n",
              "0   497   [0.010264694219983142, 0.6526755427778311]   \n",
              "0   498   [0.010132522078947276, 0.4372530758049504]   \n",
              "0   499   [0.011092505933193206, 0.5498317325195302]   \n",
              "\n",
              "                                                 Obs1  \\\n",
              "0   [8.199640286436761, 10.943202045130086, 11.127...   \n",
              "0   [0.4416123836254378, 3.2014228556787296, 3.297...   \n",
              "0   [1.2000841940133418, 5.398260475716273, 8.0120...   \n",
              "0   [0.24061067196154917, 0.37644370950873707, 2.8...   \n",
              "0   [2.8610581911830457, 7.628103695968744, 8.7406...   \n",
              "..                                                ...   \n",
              "0   [0.19885928350589718, 1.9853573742688675, 4.15...   \n",
              "0   [8.169347241529653, 8.98575485200197, 11.90139...   \n",
              "0   [0.03615702463831523, 1.128976438167647, 3.186...   \n",
              "0   [0.3248114684860674, 7.392444104236322, 11.614...   \n",
              "0   [2.862235022171031, 7.257317181976518, 9.26637...   \n",
              "\n",
              "                                                 Obs2  \\\n",
              "0   [0.03545519006911833, 0.23637824579749797, 0.4...   \n",
              "0   [0.7203186500123763, 0.9356511571607308, 1.016...   \n",
              "0   [0.36975803398394885, 0.4876780658151578, 0.80...   \n",
              "0   [0.177342187310168, 0.40562205695712095, 0.455...   \n",
              "0   [0.17573629746556224, 0.630009245221404, 0.992...   \n",
              "..                                                ...   \n",
              "0   [0.2689854772337288, 0.6695714175769714, 0.680...   \n",
              "0   [0.0015412908067590338, 0.22145207634124367, 0...   \n",
              "0   [0.058547754847326536, 0.30464891181812537, 0....   \n",
              "0   [0.10182393053977525, 0.10499606854580257, 0.3...   \n",
              "0   [0.07870294021185695, 0.15595005162359651, 0.3...   \n",
              "\n",
              "                                                 Obs3  \n",
              "0   [0.7241149785957604, 0.8889777609312982, 1.504...  \n",
              "0   [5.531508664269648, 14.35143632923999, 17.9158...  \n",
              "0   [1.2778007856853786, 1.6768227358615575, 6.066...  \n",
              "0   [0.501819341836955, 1.738903405728184, 1.85517...  \n",
              "0   [0.2631751074693025, 0.37936185375895676, 1.86...  \n",
              "..                                                ...  \n",
              "0   [0.14753390387609183, 1.2370196657174717, 11.2...  \n",
              "0   [1.2367685864507352, 9.196354418976924, 11.238...  \n",
              "0   [0.19183376976996402, 0.7162092894178478, 2.83...  \n",
              "0   [0.1440718600450551, 0.34357275777459473, 1.71...  \n",
              "0   [1.647098100791222, 1.8236232638379064, 1.9943...  \n",
              "\n",
              "[500 rows x 5 columns]"
            ],
            "text/html": [
              "\n",
              "  <div id=\"df-eb188d8a-e7f3-447b-b808-138387a0670d\">\n",
              "    <div class=\"colab-df-container\">\n",
              "      <div>\n",
              "<style scoped>\n",
              "    .dataframe tbody tr th:only-of-type {\n",
              "        vertical-align: middle;\n",
              "    }\n",
              "\n",
              "    .dataframe tbody tr th {\n",
              "        vertical-align: top;\n",
              "    }\n",
              "\n",
              "    .dataframe thead th {\n",
              "        text-align: right;\n",
              "    }\n",
              "</style>\n",
              "<table border=\"1\" class=\"dataframe\">\n",
              "  <thead>\n",
              "    <tr style=\"text-align: right;\">\n",
              "      <th></th>\n",
              "      <th>ID</th>\n",
              "      <th>Params</th>\n",
              "      <th>Obs1</th>\n",
              "      <th>Obs2</th>\n",
              "      <th>Obs3</th>\n",
              "    </tr>\n",
              "  </thead>\n",
              "  <tbody>\n",
              "    <tr>\n",
              "      <th>0</th>\n",
              "      <td>0</td>\n",
              "      <td>[0.010095112485540094, 0.57888657501034]</td>\n",
              "      <td>[8.199640286436761, 10.943202045130086, 11.127...</td>\n",
              "      <td>[0.03545519006911833, 0.23637824579749797, 0.4...</td>\n",
              "      <td>[0.7241149785957604, 0.8889777609312982, 1.504...</td>\n",
              "    </tr>\n",
              "    <tr>\n",
              "      <th>0</th>\n",
              "      <td>1</td>\n",
              "      <td>[0.00941804987117977, 0.5180622543396974]</td>\n",
              "      <td>[0.4416123836254378, 3.2014228556787296, 3.297...</td>\n",
              "      <td>[0.7203186500123763, 0.9356511571607308, 1.016...</td>\n",
              "      <td>[5.531508664269648, 14.35143632923999, 17.9158...</td>\n",
              "    </tr>\n",
              "    <tr>\n",
              "      <th>0</th>\n",
              "      <td>2</td>\n",
              "      <td>[0.010597942628168162, 0.537568292260389]</td>\n",
              "      <td>[1.2000841940133418, 5.398260475716273, 8.0120...</td>\n",
              "      <td>[0.36975803398394885, 0.4876780658151578, 0.80...</td>\n",
              "      <td>[1.2778007856853786, 1.6768227358615575, 6.066...</td>\n",
              "    </tr>\n",
              "    <tr>\n",
              "      <th>0</th>\n",
              "      <td>3</td>\n",
              "      <td>[0.008643824783599471, 0.526140730428148]</td>\n",
              "      <td>[0.24061067196154917, 0.37644370950873707, 2.8...</td>\n",
              "      <td>[0.177342187310168, 0.40562205695712095, 0.455...</td>\n",
              "      <td>[0.501819341836955, 1.738903405728184, 1.85517...</td>\n",
              "    </tr>\n",
              "    <tr>\n",
              "      <th>0</th>\n",
              "      <td>4</td>\n",
              "      <td>[0.009897251464570775, 0.48349321203023465]</td>\n",
              "      <td>[2.8610581911830457, 7.628103695968744, 8.7406...</td>\n",
              "      <td>[0.17573629746556224, 0.630009245221404, 0.992...</td>\n",
              "      <td>[0.2631751074693025, 0.37936185375895676, 1.86...</td>\n",
              "    </tr>\n",
              "    <tr>\n",
              "      <th>...</th>\n",
              "      <td>...</td>\n",
              "      <td>...</td>\n",
              "      <td>...</td>\n",
              "      <td>...</td>\n",
              "      <td>...</td>\n",
              "    </tr>\n",
              "    <tr>\n",
              "      <th>0</th>\n",
              "      <td>495</td>\n",
              "      <td>[0.011841959963364778, 0.5605469783341114]</td>\n",
              "      <td>[0.19885928350589718, 1.9853573742688675, 4.15...</td>\n",
              "      <td>[0.2689854772337288, 0.6695714175769714, 0.680...</td>\n",
              "      <td>[0.14753390387609183, 1.2370196657174717, 11.2...</td>\n",
              "    </tr>\n",
              "    <tr>\n",
              "      <th>0</th>\n",
              "      <td>496</td>\n",
              "      <td>[0.011663401110027727, 0.5101416467352566]</td>\n",
              "      <td>[8.169347241529653, 8.98575485200197, 11.90139...</td>\n",
              "      <td>[0.0015412908067590338, 0.22145207634124367, 0...</td>\n",
              "      <td>[1.2367685864507352, 9.196354418976924, 11.238...</td>\n",
              "    </tr>\n",
              "    <tr>\n",
              "      <th>0</th>\n",
              "      <td>497</td>\n",
              "      <td>[0.010264694219983142, 0.6526755427778311]</td>\n",
              "      <td>[0.03615702463831523, 1.128976438167647, 3.186...</td>\n",
              "      <td>[0.058547754847326536, 0.30464891181812537, 0....</td>\n",
              "      <td>[0.19183376976996402, 0.7162092894178478, 2.83...</td>\n",
              "    </tr>\n",
              "    <tr>\n",
              "      <th>0</th>\n",
              "      <td>498</td>\n",
              "      <td>[0.010132522078947276, 0.4372530758049504]</td>\n",
              "      <td>[0.3248114684860674, 7.392444104236322, 11.614...</td>\n",
              "      <td>[0.10182393053977525, 0.10499606854580257, 0.3...</td>\n",
              "      <td>[0.1440718600450551, 0.34357275777459473, 1.71...</td>\n",
              "    </tr>\n",
              "    <tr>\n",
              "      <th>0</th>\n",
              "      <td>499</td>\n",
              "      <td>[0.011092505933193206, 0.5498317325195302]</td>\n",
              "      <td>[2.862235022171031, 7.257317181976518, 9.26637...</td>\n",
              "      <td>[0.07870294021185695, 0.15595005162359651, 0.3...</td>\n",
              "      <td>[1.647098100791222, 1.8236232638379064, 1.9943...</td>\n",
              "    </tr>\n",
              "  </tbody>\n",
              "</table>\n",
              "<p>500 rows × 5 columns</p>\n",
              "</div>\n",
              "      <button class=\"colab-df-convert\" onclick=\"convertToInteractive('df-eb188d8a-e7f3-447b-b808-138387a0670d')\"\n",
              "              title=\"Convert this dataframe to an interactive table.\"\n",
              "              style=\"display:none;\">\n",
              "        \n",
              "  <svg xmlns=\"http://www.w3.org/2000/svg\" height=\"24px\"viewBox=\"0 0 24 24\"\n",
              "       width=\"24px\">\n",
              "    <path d=\"M0 0h24v24H0V0z\" fill=\"none\"/>\n",
              "    <path d=\"M18.56 5.44l.94 2.06.94-2.06 2.06-.94-2.06-.94-.94-2.06-.94 2.06-2.06.94zm-11 1L8.5 8.5l.94-2.06 2.06-.94-2.06-.94L8.5 2.5l-.94 2.06-2.06.94zm10 10l.94 2.06.94-2.06 2.06-.94-2.06-.94-.94-2.06-.94 2.06-2.06.94z\"/><path d=\"M17.41 7.96l-1.37-1.37c-.4-.4-.92-.59-1.43-.59-.52 0-1.04.2-1.43.59L10.3 9.45l-7.72 7.72c-.78.78-.78 2.05 0 2.83L4 21.41c.39.39.9.59 1.41.59.51 0 1.02-.2 1.41-.59l7.78-7.78 2.81-2.81c.8-.78.8-2.07 0-2.86zM5.41 20L4 18.59l7.72-7.72 1.47 1.35L5.41 20z\"/>\n",
              "  </svg>\n",
              "      </button>\n",
              "      \n",
              "  <style>\n",
              "    .colab-df-container {\n",
              "      display:flex;\n",
              "      flex-wrap:wrap;\n",
              "      gap: 12px;\n",
              "    }\n",
              "\n",
              "    .colab-df-convert {\n",
              "      background-color: #E8F0FE;\n",
              "      border: none;\n",
              "      border-radius: 50%;\n",
              "      cursor: pointer;\n",
              "      display: none;\n",
              "      fill: #1967D2;\n",
              "      height: 32px;\n",
              "      padding: 0 0 0 0;\n",
              "      width: 32px;\n",
              "    }\n",
              "\n",
              "    .colab-df-convert:hover {\n",
              "      background-color: #E2EBFA;\n",
              "      box-shadow: 0px 1px 2px rgba(60, 64, 67, 0.3), 0px 1px 3px 1px rgba(60, 64, 67, 0.15);\n",
              "      fill: #174EA6;\n",
              "    }\n",
              "\n",
              "    [theme=dark] .colab-df-convert {\n",
              "      background-color: #3B4455;\n",
              "      fill: #D2E3FC;\n",
              "    }\n",
              "\n",
              "    [theme=dark] .colab-df-convert:hover {\n",
              "      background-color: #434B5C;\n",
              "      box-shadow: 0px 1px 3px 1px rgba(0, 0, 0, 0.15);\n",
              "      filter: drop-shadow(0px 1px 2px rgba(0, 0, 0, 0.3));\n",
              "      fill: #FFFFFF;\n",
              "    }\n",
              "  </style>\n",
              "\n",
              "      <script>\n",
              "        const buttonEl =\n",
              "          document.querySelector('#df-eb188d8a-e7f3-447b-b808-138387a0670d button.colab-df-convert');\n",
              "        buttonEl.style.display =\n",
              "          google.colab.kernel.accessAllowed ? 'block' : 'none';\n",
              "\n",
              "        async function convertToInteractive(key) {\n",
              "          const element = document.querySelector('#df-eb188d8a-e7f3-447b-b808-138387a0670d');\n",
              "          const dataTable =\n",
              "            await google.colab.kernel.invokeFunction('convertToInteractive',\n",
              "                                                     [key], {});\n",
              "          if (!dataTable) return;\n",
              "\n",
              "          const docLinkHtml = 'Like what you see? Visit the ' +\n",
              "            '<a target=\"_blank\" href=https://colab.research.google.com/notebooks/data_table.ipynb>data table notebook</a>'\n",
              "            + ' to learn more about interactive tables.';\n",
              "          element.innerHTML = '';\n",
              "          dataTable['output_type'] = 'display_data';\n",
              "          await google.colab.output.renderOutput(dataTable, element);\n",
              "          const docLink = document.createElement('div');\n",
              "          docLink.innerHTML = docLinkHtml;\n",
              "          element.appendChild(docLink);\n",
              "        }\n",
              "      </script>\n",
              "    </div>\n",
              "  </div>\n",
              "  "
            ]
          },
          "metadata": {},
          "execution_count": 16
        }
      ]
    },
    {
      "cell_type": "code",
      "source": [
        "\n",
        "\n",
        "#pop truncates an array! Once the thing finishes running, pass in simulated\n",
        "#samples and apply pop \n"
      ],
      "metadata": {
        "colab": {
          "base_uri": "https://localhost:8080/"
        },
        "id": "nV3qbwUZCex1",
        "outputId": "5a1c15a8-fe9c-4697-8653-453f00024fdc"
      },
      "execution_count": 28,
      "outputs": [
        {
          "output_type": "execute_result",
          "data": {
            "text/plain": [
              "array([ 33., 155., 180.,  87.,  21.,  68.,  93., 180.,  65., 180.,  41.,\n",
              "        70., 119.,  94.,  68.,  82., 162.,   0.,  15., 128., 180., 117.,\n",
              "       180.,  97.,  17.,  37., 118., 180., 175., 174., 180.,  54., 180.,\n",
              "        12.,  20.,  71.,  57., 180., 180., 106., 170., 168.,  61., 104.,\n",
              "       180.,  76.,  85.,  33.,  40., 180., 180.,  51., 180., 166., 112.,\n",
              "       180.,   4., 180., 180.,  33.,  46., 106.,  67.,   1., 180.,  12.,\n",
              "        96.,  75., 136., 180., 160., 114.,  32., 105.,  14., 180.,  10.,\n",
              "        21.,  44.,  48., 180.,  18., 115.,  23., 149.,   5.,  29., 180.,\n",
              "         5.,  43.,  13.,  95.,   2.,  47., 101.,  18., 102., 133.,  15.,\n",
              "        78.,   4., 180., 151.,  40.,  62.,  83., 152.,  62.,  80., 104.,\n",
              "        91., 180.,  27., 149., 180.,  71., 180.,  32., 119.,  48.,  40.,\n",
              "       103., 174.,  38., 180.,  99.,  63.,   1., 103., 125.,  89., 101.,\n",
              "       155.,   8.,  20., 180.,  70.,  56., 133., 180.,  15.,  43., 114.,\n",
              "        89., 180.,  13.,  56., 162.,  32., 148.,   7., 144., 180.,  49.,\n",
              "       109.,  15., 116., 139., 130.,  46.,  62.,  66.,  16., 180.,  47.,\n",
              "        36., 180.,  41.,   3.,  65.,   9.,   1.,   4., 180., 113.,   0.,\n",
              "        34., 109.,  20., 180.,  41.,  61., 180.,  96., 126.,   9.,  77.,\n",
              "         2.,   8.,  94.,  17.,   5.,  12.,  87.,  82., 171., 180., 180.,\n",
              "        25.,  54.,   5., 180., 180.,  85.,  78.,  24., 127.,  31., 116.,\n",
              "       114., 148.,  56.,  74., 114., 180.,   6.,  25., 180.,   6., 180.,\n",
              "        10., 180., 180., 180.,  19.,  10., 105.,  63.,  66.,  43., 180.,\n",
              "        14., 180., 136.,  99.,  28.,  28.,  34.,   8., 180., 180.,  56.,\n",
              "       180.,  94.,  50.,  82., 180.,  86., 115., 180.,  59.,  16.,  80.,\n",
              "       107.,  99., 180., 180., 147., 122., 180., 180.,   9.,  59.,  13.,\n",
              "        22.,   6., 180., 129.,  25.,  54., 173., 154.,  62.,   7.,  32.,\n",
              "        40.,  56.,  11., 180., 180., 153., 130.,  60., 146., 180., 170.,\n",
              "        22., 166.,  34.,  54., 170.,  36., 180., 154.,   2.,  63.,  95.,\n",
              "        36., 180.,  81.,  33.,  68., 180., 155.,  34.,  10.,  23.,  16.,\n",
              "       102.,  68., 101.,  91.,  57., 172.,  46., 141., 180., 144.,  65.,\n",
              "       121., 180.,  28., 180., 138.,  31., 123., 180.,   3., 180., 180.,\n",
              "       180., 102.,  18., 180.,  73., 180.,  10.,   7., 180.,   3., 180.,\n",
              "       144., 180.,  31.,   6.,   9.,  19.,   7.,  58., 180., 135.,  28.,\n",
              "       135.,  90., 180.,  20.,   7., 166.,  41.,   1.,  58.,  43.,  19.,\n",
              "       180., 180., 101., 122., 175.,  32.,  52.,  34.,  32., 161., 122.,\n",
              "        11., 180.,  58., 112., 180.,  19.,  95.,  52.,  47., 180., 141.,\n",
              "        63.,  63.,  34.,  10., 144., 180.,   8.,  90.,  80.,  18.,  36.,\n",
              "        35.,  35., 101.,  55.,  35.,  78., 180.,  16.,  10., 103., 126.,\n",
              "        90., 180.,  37.,  46., 114., 126.,  21., 180.,   7., 138., 180.,\n",
              "       159.,  33., 180.,   2.,  45.,  61.,  71.,  73., 180., 104.,  19.,\n",
              "       180.,   7.,  84.,  27., 109.,  30.,  27.,  29., 113., 112.,  39.,\n",
              "        49., 145.,  33., 100., 120., 180., 134.,  60.,  18., 180.,  48.,\n",
              "        31., 180.,   2., 180., 180., 121., 180., 101.,  35.,   7., 180.,\n",
              "        35.,  72., 180., 180., 180.,  37.,  72., 180.,  75., 145., 144.,\n",
              "        11., 140., 103.,  31.,  23.,  25., 118., 177.,  43.,   1.,  27.,\n",
              "       127., 162., 111., 161., 101., 180.,  87.,   9.,  68.,  53., 180.,\n",
              "       153.,  35., 180.,  16., 158.])"
            ]
          },
          "metadata": {},
          "execution_count": 28
        }
      ]
    },
    {
      "cell_type": "code",
      "source": [
        "\n",
        "for i in range(500):\n",
        "  dataset[\"Obs_1\"][i] = [ elem for elem in dataset['Obs_1'][i] if elem <= death[i]]\n",
        " "
      ],
      "metadata": {
        "id": "GRhmlJqhlLly"
      },
      "execution_count": null,
      "outputs": []
    },
    {
      "cell_type": "code",
      "source": [
        "\n"
      ],
      "metadata": {
        "id": "FQL6RNXCyeka"
      },
      "execution_count": null,
      "outputs": []
    }
  ]
}